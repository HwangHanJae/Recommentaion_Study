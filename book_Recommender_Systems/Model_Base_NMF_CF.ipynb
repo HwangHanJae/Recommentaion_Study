{
  "nbformat": 4,
  "nbformat_minor": 0,
  "metadata": {
    "colab": {
      "provenance": [],
      "authorship_tag": "ABX9TyNk3FrcGAtULOPx5seos/B3",
      "include_colab_link": true
    },
    "kernelspec": {
      "name": "python3",
      "display_name": "Python 3"
    },
    "language_info": {
      "name": "python"
    }
  },
  "cells": [
    {
      "cell_type": "markdown",
      "metadata": {
        "id": "view-in-github",
        "colab_type": "text"
      },
      "source": [
        "<a href=\"https://colab.research.google.com/github/HwangHanJae/recommender_system/blob/main/book_Recommender_Systems/Model_Base_NMF_CF.ipynb\" target=\"_parent\"><img src=\"https://colab.research.google.com/assets/colab-badge.svg\" alt=\"Open In Colab\"/></a>"
      ]
    },
    {
      "cell_type": "markdown",
      "source": [
        "# NMF(Non-negative Matrix Factorization)\n",
        "NMF는 음수 미포함 행렬 분해(비음행렬 인수분해)라고 하여 말 그대로 음수를 포함하지 않는 행렬 $X$를 음수를 포함하지 않는 행렬 $W$와 $H$의 곱으로 분해하는 알고리즘입니다.\n",
        "\n",
        "$$X = WH$$\n",
        "\n",
        "NMF와 관련하여 참고한 자료는 다음과 같습니다.  \n",
        "참고링크1 : https://angeloyeo.github.io/2020/10/15/NMF.html  \n",
        "참고링크2 : https://github.com/ahmadvh/Non-Negative-Matrix-factorization---Implemented-in-python\n",
        "\n",
        "\n",
        "여기서는 음수를 포함하지 않는 평점을 가진 행렬을 비음평점 행렬 혹은 비음행렬이라고 표현하겠습니다.\n",
        "\n",
        "비음평점 행렬은 암시적 피드백 데이터세트에 일반적으로 사용됩니다.\n",
        "\n",
        "암시적 피드백 데이터 세트의 예는 다음과 같습니다.\n",
        "1. 사용자가 특정 아이템에 대하여 구매 하였을 때 \n",
        "2. 웹에서 사용자가 특정 아이템에 대해서 클릭 하였을 때\n",
        "3. 페이스북의 \"좋아요\" 버튼을 선택하였을 때\n",
        "\n",
        "위의 예처럼 사용자의 표현은 음수가 아닌 임의의 숫자로 표현할 수 있고, 이러한 숫자는 아이템에 대해서 호감도를 명시하지만 비호감도를 나타내는 것은 아닙니다.\n",
        "\n",
        "즉 암시적 피드백 데이터 세트는 신뢰를 나타내고 명시적 피드백의 경우는 선호를 나타냅니다.\n",
        "\n",
        "우리의 목적은 $WH$가 최대한 $X$와 가깝게 만드는 것입니다.\n",
        "최대한 $X$와 가깝다 라는 의미는 $WH$와 $X$의 차이가 0에 가깝다라는 의미이고 우리가 최소화 해야하는 값입니다.\n",
        "\n",
        "즉 우리의 목적함수는 프로베니우스 노름(Frobenius norm) $||X-WH||^{2}_{F}$ 정의할 수 있습니다. \n",
        "\n",
        "$$min(||X-WH||^{2}_{F})$$\n",
        "\n",
        "즉 프로베니우스 노름(놈)이 0에 가까워야 하는 것이며 거리(유클리드)가 0에 가깝다는 것입니다.\n",
        "\n",
        "우리의 목적 함수를 정의하였고 경사하강법을 이용하여 $W$, $H$업데이트 할수 있습니다.\n",
        "\n",
        "위의 [참고링크1](https://angeloyeo.github.io/2020/10/15/NMF.html)을 보면 $W$, $H$ 행렬을 업데이트하는 과정이 상세하게 잘 나와 있습니다.\n",
        "\n",
        "\n",
        "결론만 가지고 오면\n",
        "\n",
        "$$H \\Leftarrow H \\circ \\frac{W^{T}X}{W^{T}WH}$$\n",
        "$$W \\Leftarrow W \\circ \\frac{XH^{T}}{WHH^{T}}$$  \n",
        "\n",
        "\n",
        "여기서 $\\circ$ 기호는 원소별 곱(Hadamard product)를 의미합니다.\n",
        "\n",
        "\n",
        "$\\epsilon \\approx 10^{-9}$와 같은 작은 값으로 분모가 0이 되지 않게 하여 안정성을 높입니다. $U$, $V$가 업데이트 될때 모든 항목이 \"동시에\" 업데이트가 됩니다.  \n",
        "그리고 초기화 단계에서는 (0, 1)의 임의의 값으로 초기화 됩니다.\n",
        "\n",
        "$$H \\Leftarrow H \\circ \\frac{W^{T}X}{W^{T}WH + \\epsilon}$$\n",
        "$$W \\Leftarrow W \\circ \\frac{XH^{T}}{WHH^{T}+ \\epsilon}$$  \n"
      ],
      "metadata": {
        "id": "gTv8vP6pmiy9"
      }
    },
    {
      "cell_type": "code",
      "source": [
        "import numpy as np\n",
        "\n",
        "R = np.array([[2, 2, 1, 2, 0, 0],\n",
        "       [2, 3, 3, 3, 0, 0],\n",
        "       [1, 1, 1, 1, 0, 0],\n",
        "       [2, 2, 2, 3, 1, 1],\n",
        "       [0, 0, 0, 1, 1, 1],\n",
        "       [0, 0, 0, 2, 1, 2]])"
      ],
      "metadata": {
        "id": "S_6Elpb5hE_o"
      },
      "execution_count": 4,
      "outputs": []
    },
    {
      "cell_type": "code",
      "source": [
        "class NMF_CF:\n",
        "  def __init__(self, R, k, max_iters):\n",
        "    self.R =R\n",
        "    self.num_users, self.num_items = R.shape\n",
        "    self.k = k\n",
        "    self.max_iters =max_iters\n",
        "  def fit(self):\n",
        "    np.random.seed(seed=42)\n",
        "    W = np.random.uniform(0, 1, size=(self.num_users, self.k))\n",
        "    H = np.random.uniform(0, 1, size=(self.k, self.num_items))\n",
        "    \n",
        "\n",
        "    norms = []\n",
        "    e = 1e-10\n",
        "    for n in range(self.max_iters):\n",
        "        # Update H\n",
        "        W_TA = W.T @ self.R \n",
        "        W_TWH = W.T @ W @ H\n",
        "        for i in range(np.size(H, 0)):\n",
        "            for j in range(np.size(H, 1)):\n",
        "                H[i, j] = H[i, j] * W_TA[i, j] / (W_TWH[i, j] + e)\n",
        "        # Update W\n",
        "        AH_T = self.R @ H.T\n",
        "        WHH_T =  W @ H @ H.T\n",
        "\n",
        "        for i in range(np.size(W, 0)):\n",
        "            for j in range(np.size(W, 1)):\n",
        "                W[i, j] = W[i, j] * AH_T[i, j] / (WHH_T[i, j] + e)\n",
        "\n",
        "        norm = np.linalg.norm(self.R - W@H, 'fro')\n",
        "        norms.append(norm)\n",
        "    return norms"
      ],
      "metadata": {
        "id": "pyjCP5bChFqv"
      },
      "execution_count": 28,
      "outputs": []
    },
    {
      "cell_type": "code",
      "source": [
        "nmf = NMF_CF(R, k=2, max_iters=25)\n",
        "nmf.fit()"
      ],
      "metadata": {
        "colab": {
          "base_uri": "https://localhost:8080/"
        },
        "id": "LKNcbFHehMH3",
        "outputId": "12f13dd4-6b08-4eee-aa2d-7fe857b4c839"
      },
      "execution_count": 29,
      "outputs": [
        {
          "output_type": "execute_result",
          "data": {
            "text/plain": [
              "[3.7317865145578164,\n",
              " 3.3852320754409773,\n",
              " 3.23014280974358,\n",
              " 3.1056533393350496,\n",
              " 3.003186571056583,\n",
              " 2.921697773749818,\n",
              " 2.8577918879694497,\n",
              " 2.8056939259478093,\n",
              " 2.7595950122943234,\n",
              " 2.7149228982713023,\n",
              " 2.6683994328902063,\n",
              " 2.6176112594229415,\n",
              " 2.5605655685469006,\n",
              " 2.495406732112358,\n",
              " 2.4203496457686886,\n",
              " 2.3338685380532636,\n",
              " 2.2351720874055596,\n",
              " 2.124913304658629,\n",
              " 2.0058757424789073,\n",
              " 1.8831422123217447,\n",
              " 1.7633047038321552,\n",
              " 1.6528426523214714,\n",
              " 1.5564782687855043,\n",
              " 1.4763547217214443,\n",
              " 1.4122351327510447]"
            ]
          },
          "metadata": {},
          "execution_count": 29
        }
      ]
    },
    {
      "cell_type": "code",
      "source": [],
      "metadata": {
        "id": "uuQ9yrKe_CHH"
      },
      "execution_count": null,
      "outputs": []
    }
  ]
}