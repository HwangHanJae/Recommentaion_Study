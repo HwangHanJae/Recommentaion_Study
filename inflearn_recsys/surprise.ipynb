{
  "nbformat": 4,
  "nbformat_minor": 0,
  "metadata": {
    "colab": {
      "provenance": [],
      "authorship_tag": "ABX9TyO+4qRLwbjrg4XAK5/WZhoP",
      "include_colab_link": true
    },
    "kernelspec": {
      "name": "python3",
      "display_name": "Python 3"
    },
    "language_info": {
      "name": "python"
    }
  },
  "cells": [
    {
      "cell_type": "markdown",
      "metadata": {
        "id": "view-in-github",
        "colab_type": "text"
      },
      "source": [
        "<a href=\"https://colab.research.google.com/github/HwangHanJae/recommender_system/blob/main/inflearn_recsys/surprise.ipynb\" target=\"_parent\"><img src=\"https://colab.research.google.com/assets/colab-badge.svg\" alt=\"Open In Colab\"/></a>"
      ]
    },
    {
      "cell_type": "markdown",
      "source": [
        "# Surprise 패키지 설치"
      ],
      "metadata": {
        "id": "SlQJpiuVzY4w"
      }
    },
    {
      "cell_type": "code",
      "execution_count": 1,
      "metadata": {
        "colab": {
          "base_uri": "https://localhost:8080/"
        },
        "id": "p5qXe0NUzIg_",
        "outputId": "a16c906e-22dd-4843-a53b-fad05710b3ad"
      },
      "outputs": [
        {
          "output_type": "stream",
          "name": "stdout",
          "text": [
            "Looking in indexes: https://pypi.org/simple, https://us-python.pkg.dev/colab-wheels/public/simple/\n",
            "Collecting scikit-surprise\n",
            "  Downloading scikit-surprise-1.1.3.tar.gz (771 kB)\n",
            "\u001b[2K     \u001b[90m━━━━━━━━━━━━━━━━━━━━━━━━━━━━━━━━━━━━━━━\u001b[0m \u001b[32m772.0/772.0 KB\u001b[0m \u001b[31m7.3 MB/s\u001b[0m eta \u001b[36m0:00:00\u001b[0m\n",
            "\u001b[?25h  Preparing metadata (setup.py) ... \u001b[?25l\u001b[?25hdone\n",
            "Requirement already satisfied: joblib>=1.0.0 in /usr/local/lib/python3.8/dist-packages (from scikit-surprise) (1.2.0)\n",
            "Requirement already satisfied: numpy>=1.17.3 in /usr/local/lib/python3.8/dist-packages (from scikit-surprise) (1.21.6)\n",
            "Requirement already satisfied: scipy>=1.3.2 in /usr/local/lib/python3.8/dist-packages (from scikit-surprise) (1.7.3)\n",
            "Building wheels for collected packages: scikit-surprise\n",
            "  Building wheel for scikit-surprise (setup.py) ... \u001b[?25l\u001b[?25hdone\n",
            "  Created wheel for scikit-surprise: filename=scikit_surprise-1.1.3-cp38-cp38-linux_x86_64.whl size=3366454 sha256=9f194a096af46e9835e2943dfc4094659f17c6d91764d568a1bd0f04dd9bd55d\n",
            "  Stored in directory: /root/.cache/pip/wheels/af/db/86/2c18183a80ba05da35bf0fb7417aac5cddbd93bcb1b92fd3ea\n",
            "Successfully built scikit-surprise\n",
            "Installing collected packages: scikit-surprise\n",
            "Successfully installed scikit-surprise-1.1.3\n"
          ]
        }
      ],
      "source": [
        "!pip install scikit-surprise"
      ]
    },
    {
      "cell_type": "markdown",
      "source": [
        "# 필요 라이브러리 로드"
      ],
      "metadata": {
        "id": "cID_gM210Hle"
      }
    },
    {
      "cell_type": "code",
      "source": [
        "import numpy as np\n",
        "\n",
        "from surprise import BaselineOnly, KNNWithMeans, SVD, SVDpp, Dataset, accuracy, Reader\n",
        "from surprise.model_selection import cross_validate, train_test_split\n",
        "\n",
        "data =Dataset.load_builtin(name='ml-100k')"
      ],
      "metadata": {
        "colab": {
          "base_uri": "https://localhost:8080/"
        },
        "id": "0EJfidDnz-kU",
        "outputId": "614b9191-bc1b-4388-b0a3-233b410d9d9b"
      },
      "execution_count": 2,
      "outputs": [
        {
          "output_type": "stream",
          "name": "stdout",
          "text": [
            "Dataset ml-100k could not be found. Do you want to download it? [Y/n] y\n",
            "Trying to download dataset from https://files.grouplens.org/datasets/movielens/ml-100k.zip...\n",
            "Done! Dataset ml-100k has been saved to /root/.surprise_data/ml-100k\n"
          ]
        }
      ]
    },
    {
      "cell_type": "code",
      "source": [
        "# train test 분리\n",
        "trainset, testset =train_test_split(data, test_size = 0.25)"
      ],
      "metadata": {
        "id": "hP3PPZRs0glm"
      },
      "execution_count": 3,
      "outputs": []
    },
    {
      "cell_type": "markdown",
      "source": [
        "## 간단한 테스트"
      ],
      "metadata": {
        "id": "7c408T_o0-yz"
      }
    },
    {
      "cell_type": "code",
      "source": [
        "algo = KNNWithMeans()\n",
        "\n",
        "algo.fit(trainset)\n",
        "\n",
        "predictions = algo.test(testset)\n",
        "\n",
        "accuracy.rmse(predictions)"
      ],
      "metadata": {
        "colab": {
          "base_uri": "https://localhost:8080/"
        },
        "id": "DiTFwLR10pEd",
        "outputId": "71eb214b-0fa5-4f7c-c9da-b926bdf7b94b"
      },
      "execution_count": 6,
      "outputs": [
        {
          "output_type": "stream",
          "name": "stdout",
          "text": [
            "Computing the msd similarity matrix...\n",
            "Done computing similarity matrix.\n",
            "RMSE: 0.9492\n"
          ]
        },
        {
          "output_type": "execute_result",
          "data": {
            "text/plain": [
              "0.9491690117531271"
            ]
          },
          "metadata": {},
          "execution_count": 6
        }
      ]
    },
    {
      "cell_type": "markdown",
      "source": [
        "# Surprise 알고리즘 비교"
      ],
      "metadata": {
        "id": "3sIFLPpQ1C8f"
      }
    },
    {
      "cell_type": "markdown",
      "source": [
        "- BaselineOnly : 사용자의 평점 평균과 아이템의 평점 평균을 모델화 하여 예측하는 알고리즘\n",
        "\n",
        "- KNNWithMeans : 사용자의 평가 경향을 고려한 협업필터링\n",
        "\n",
        "- SVD : MF기반 알고리즘, 내부적으로는 SGD와 유사하게 구현\n",
        "\n",
        "- SVDpp : 일종의 암묵적 평가까지 포함한 알고리즘"
      ],
      "metadata": {
        "id": "Wt1dJH2m1EdZ"
      }
    },
    {
      "cell_type": "code",
      "source": [
        "# 비교에 필요한 Surpirse 알고리즘\n",
        "from surprise import BaselineOnly\n",
        "from surprise import KNNWithMeans\n",
        "from surprise import SVD\n",
        "from surprise import SVDpp\n",
        "\n",
        "# 정확도 측정 관련 모듈\n",
        "from surprise import accuracy\n",
        "\n",
        "# Dataset 관련 모듈\n",
        "from surprise import Dataset\n",
        "\n",
        "# train/test set 분리 관련 모듈\n",
        "from surprise.model_selection import train_test_split\n",
        "\n",
        "# 결과를 그래프로 표시하기 위한 라이브러리\n",
        "import matplotlib.pyplot as plt\n",
        "\n",
        "data = Dataset.load_builtin(name=u'ml-100k')\n",
        "\n",
        "trainset, testset = train_test_split(data, test_size=0.25)"
      ],
      "metadata": {
        "id": "mFVdzCZw0qPl"
      },
      "execution_count": 7,
      "outputs": []
    },
    {
      "cell_type": "code",
      "source": [
        "algorithms = [BaselineOnly, KNNWithMeans, SVD, SVDpp]\n",
        "names = []\n",
        "results = []\n",
        "\n",
        "for option in algorithms:\n",
        "  algo = option()\n",
        "  names.append(option.__name__)\n",
        "  algo.fit(trainset)\n",
        "  predictions = algo.test(testset)\n",
        "  results.append(accuracy.rmse(predictions))\n",
        "\n",
        "\n",
        "names = np.array(names)\n",
        "results = np.array(results)\n",
        "index = np.argsort(results)\n",
        "\n",
        "plt.ylim(0.8, 1)\n",
        "plt.plot(names[index], results[index])\n",
        "results[index]"
      ],
      "metadata": {
        "colab": {
          "base_uri": "https://localhost:8080/",
          "height": 408
        },
        "id": "aMLHiUps2Tf7",
        "outputId": "4bac55d8-eee3-4829-e735-383c524dc56c"
      },
      "execution_count": 8,
      "outputs": [
        {
          "output_type": "stream",
          "name": "stdout",
          "text": [
            "Estimating biases using als...\n",
            "RMSE: 0.9469\n",
            "Computing the msd similarity matrix...\n",
            "Done computing similarity matrix.\n",
            "RMSE: 0.9537\n",
            "RMSE: 0.9380\n",
            "RMSE: 0.9229\n"
          ]
        },
        {
          "output_type": "execute_result",
          "data": {
            "text/plain": [
              "array([0.92291399, 0.93795221, 0.94690839, 0.9537031 ])"
            ]
          },
          "metadata": {},
          "execution_count": 8
        },
        {
          "output_type": "display_data",
          "data": {
            "text/plain": [
              "<Figure size 432x288 with 1 Axes>"
            ],
            "image/png": "[encoded data removed]"
          },
          "metadata": {
            "needs_background": "light"
          }
        }
      ]
    },
    {
      "cell_type": "markdown",
      "source": [
        "# 알고리즘 옵션 지정"
      ],
      "metadata": {
        "id": "Orczdehu3O8p"
      }
    },
    {
      "cell_type": "code",
      "source": [
        "sim_options = {'name' : 'pearson_baseline',\n",
        "               \"user_bised\" : True}\n",
        "algo = KNNWithMeans(k=30, sim_options = sim_options) \n",
        "algo.fit(trainset)\n",
        "predictions = algo.test(testset)              \n",
        "accuracy.rmse(predictions)"
      ],
      "metadata": {
        "colab": {
          "base_uri": "https://localhost:8080/"
        },
        "id": "vtnQxD5M3Ccr",
        "outputId": "1ed56cd8-ecc7-4a41-b4d0-164ad68bc02c"
      },
      "execution_count": 9,
      "outputs": [
        {
          "output_type": "stream",
          "name": "stdout",
          "text": [
            "Estimating biases using als...\n",
            "Computing the pearson_baseline similarity matrix...\n",
            "Done computing similarity matrix.\n",
            "RMSE: 0.9440\n"
          ]
        },
        {
          "output_type": "execute_result",
          "data": {
            "text/plain": [
              "0.9439685639813271"
            ]
          },
          "metadata": {},
          "execution_count": 9
        }
      ]
    },
    {
      "cell_type": "markdown",
      "source": [
        "# 다양한 조건의 비교"
      ],
      "metadata": {
        "id": "2N4HYMua4VyP"
      }
    },
    {
      "cell_type": "code",
      "source": [
        "# 집단과 사용자의 평가경향을 함께 고려한 CF 알고리즘\n",
        "from surprise import KNNWithMeans\n",
        "\n",
        "# Dataset 관련 모듈\n",
        "from surprise import Dataset\n",
        "\n",
        "# 정확도 측정 관련 모듈\n",
        "from surprise import accuracy\n",
        "\n",
        "# train/test set 분리 관련 모듈\n",
        "from surprise.model_selection import train_test_split\n",
        "\n",
        "data = Dataset.load_builtin(name=u'ml-100k')\n",
        "\n",
        "# Train/Test 0.75 : 0.25 분리\n",
        "trainset, testset = train_test_split(data, test_size=0.25)\n",
        "\n",
        "result = []\n",
        "for neighbor_size in [10,20,30,40,50,60]:\n",
        "  algo = KNNWithMeans(k = neighbor_size,\n",
        "                      sim_options = {'name': 'pearson_baseline',\n",
        "                                     'user_based' : True})\n",
        "  algo.fit(trainset)\n",
        "  predictions = algo.test(testset)\n",
        "  result.append([neighbor_size, accuracy.rmse(predictions)])"
      ],
      "metadata": {
        "colab": {
          "base_uri": "https://localhost:8080/"
        },
        "id": "LY13FJSX3vKK",
        "outputId": "f918e916-d9ea-4d19-e89e-7f7114cb17bd"
      },
      "execution_count": 11,
      "outputs": [
        {
          "output_type": "stream",
          "name": "stdout",
          "text": [
            "Estimating biases using als...\n",
            "Computing the pearson_baseline similarity matrix...\n",
            "Done computing similarity matrix.\n",
            "RMSE: 0.9532\n",
            "Estimating biases using als...\n",
            "Computing the pearson_baseline similarity matrix...\n",
            "Done computing similarity matrix.\n",
            "RMSE: 0.9416\n",
            "Estimating biases using als...\n",
            "Computing the pearson_baseline similarity matrix...\n",
            "Done computing similarity matrix.\n",
            "RMSE: 0.9397\n",
            "Estimating biases using als...\n",
            "Computing the pearson_baseline similarity matrix...\n",
            "Done computing similarity matrix.\n",
            "RMSE: 0.9393\n",
            "Estimating biases using als...\n",
            "Computing the pearson_baseline similarity matrix...\n",
            "Done computing similarity matrix.\n",
            "RMSE: 0.9396\n",
            "Estimating biases using als...\n",
            "Computing the pearson_baseline similarity matrix...\n",
            "Done computing similarity matrix.\n",
            "RMSE: 0.9398\n"
          ]
        }
      ]
    },
    {
      "cell_type": "code",
      "source": [
        "result"
      ],
      "metadata": {
        "colab": {
          "base_uri": "https://localhost:8080/"
        },
        "id": "yZbN202x5P9s",
        "outputId": "c93ffd71-8b14-49a5-f380-dc4a3617a969"
      },
      "execution_count": 12,
      "outputs": [
        {
          "output_type": "execute_result",
          "data": {
            "text/plain": [
              "[[10, 0.9532464799189561],\n",
              " [20, 0.9416033970790326],\n",
              " [30, 0.9397299530616977],\n",
              " [40, 0.9393147663127355],\n",
              " [50, 0.9396241887288386],\n",
              " [60, 0.9398449050521807]]"
            ]
          },
          "metadata": {},
          "execution_count": 12
        }
      ]
    },
    {
      "cell_type": "code",
      "source": [
        "# KNN 다양한 파라미터 비교\n",
        "# Grid Search를 위한 모듈\n",
        "from surprise.model_selection import GridSearchCV\n",
        "\n",
        "param_grid = {\n",
        "    'k' : [5,10,15,25],\n",
        "    'sim_options' : {\n",
        "        'name' : ['pearson_baseline', 'cosine'],\n",
        "        'user_based' : [True, False]\n",
        "    }\n",
        "\n",
        "}\n",
        "gs = GridSearchCV(KNNWithMeans,\n",
        "                  param_grid,\n",
        "                  measures = ['rmse'],\n",
        "                  cv=4)\n",
        "\n",
        "gs.fit(data)"
      ],
      "metadata": {
        "colab": {
          "base_uri": "https://localhost:8080/"
        },
        "id": "kpjUuOgq40UI",
        "outputId": "db608a38-5528-4304-e9fd-207d099c5004"
      },
      "execution_count": 13,
      "outputs": [
        {
          "output_type": "stream",
          "name": "stdout",
          "text": [
            "Estimating biases using als...\n",
            "Computing the pearson_baseline similarity matrix...\n",
            "Done computing similarity matrix.\n",
            "Estimating biases using als...\n",
            "Computing the pearson_baseline similarity matrix...\n",
            "Done computing similarity matrix.\n",
            "Estimating biases using als...\n",
            "Computing the pearson_baseline similarity matrix...\n",
            "Done computing similarity matrix.\n",
            "Estimating biases using als...\n",
            "Computing the pearson_baseline similarity matrix...\n",
            "Done computing similarity matrix.\n",
            "Estimating biases using als...\n",
            "Computing the pearson_baseline similarity matrix...\n",
            "Done computing similarity matrix.\n",
            "Estimating biases using als...\n",
            "Computing the pearson_baseline similarity matrix...\n",
            "Done computing similarity matrix.\n",
            "Estimating biases using als...\n",
            "Computing the pearson_baseline similarity matrix...\n",
            "Done computing similarity matrix.\n",
            "Estimating biases using als...\n",
            "Computing the pearson_baseline similarity matrix...\n",
            "Done computing similarity matrix.\n",
            "Computing the cosine similarity matrix...\n",
            "Done computing similarity matrix.\n",
            "Computing the cosine similarity matrix...\n",
            "Done computing similarity matrix.\n",
            "Computing the cosine similarity matrix...\n",
            "Done computing similarity matrix.\n",
            "Computing the cosine similarity matrix...\n",
            "Done computing similarity matrix.\n",
            "Computing the cosine similarity matrix...\n",
            "Done computing similarity matrix.\n",
            "Computing the cosine similarity matrix...\n",
            "Done computing similarity matrix.\n",
            "Computing the cosine similarity matrix...\n",
            "Done computing similarity matrix.\n",
            "Computing the cosine similarity matrix...\n",
            "Done computing similarity matrix.\n",
            "Estimating biases using als...\n",
            "Computing the pearson_baseline similarity matrix...\n",
            "Done computing similarity matrix.\n",
            "Estimating biases using als...\n",
            "Computing the pearson_baseline similarity matrix...\n",
            "Done computing similarity matrix.\n",
            "Estimating biases using als...\n",
            "Computing the pearson_baseline similarity matrix...\n",
            "Done computing similarity matrix.\n",
            "Estimating biases using als...\n",
            "Computing the pearson_baseline similarity matrix...\n",
            "Done computing similarity matrix.\n",
            "Estimating biases using als...\n",
            "Computing the pearson_baseline similarity matrix...\n",
            "Done computing similarity matrix.\n",
            "Estimating biases using als...\n",
            "Computing the pearson_baseline similarity matrix...\n",
            "Done computing similarity matrix.\n",
            "Estimating biases using als...\n",
            "Computing the pearson_baseline similarity matrix...\n",
            "Done computing similarity matrix.\n",
            "Estimating biases using als...\n",
            "Computing the pearson_baseline similarity matrix...\n",
            "Done computing similarity matrix.\n",
            "Computing the cosine similarity matrix...\n",
            "Done computing similarity matrix.\n",
            "Computing the cosine similarity matrix...\n",
            "Done computing similarity matrix.\n",
            "Computing the cosine similarity matrix...\n",
            "Done computing similarity matrix.\n",
            "Computing the cosine similarity matrix...\n",
            "Done computing similarity matrix.\n",
            "Computing the cosine similarity matrix...\n",
            "Done computing similarity matrix.\n",
            "Computing the cosine similarity matrix...\n",
            "Done computing similarity matrix.\n",
            "Computing the cosine similarity matrix...\n",
            "Done computing similarity matrix.\n",
            "Computing the cosine similarity matrix...\n",
            "Done computing similarity matrix.\n",
            "Estimating biases using als...\n",
            "Computing the pearson_baseline similarity matrix...\n",
            "Done computing similarity matrix.\n",
            "Estimating biases using als...\n",
            "Computing the pearson_baseline similarity matrix...\n",
            "Done computing similarity matrix.\n",
            "Estimating biases using als...\n",
            "Computing the pearson_baseline similarity matrix...\n",
            "Done computing similarity matrix.\n",
            "Estimating biases using als...\n",
            "Computing the pearson_baseline similarity matrix...\n",
            "Done computing similarity matrix.\n",
            "Estimating biases using als...\n",
            "Computing the pearson_baseline similarity matrix...\n",
            "Done computing similarity matrix.\n",
            "Estimating biases using als...\n",
            "Computing the pearson_baseline similarity matrix...\n",
            "Done computing similarity matrix.\n",
            "Estimating biases using als...\n",
            "Computing the pearson_baseline similarity matrix...\n",
            "Done computing similarity matrix.\n",
            "Estimating biases using als...\n",
            "Computing the pearson_baseline similarity matrix...\n",
            "Done computing similarity matrix.\n",
            "Computing the cosine similarity matrix...\n",
            "Done computing similarity matrix.\n",
            "Computing the cosine similarity matrix...\n",
            "Done computing similarity matrix.\n",
            "Computing the cosine similarity matrix...\n",
            "Done computing similarity matrix.\n",
            "Computing the cosine similarity matrix...\n",
            "Done computing similarity matrix.\n",
            "Computing the cosine similarity matrix...\n",
            "Done computing similarity matrix.\n",
            "Computing the cosine similarity matrix...\n",
            "Done computing similarity matrix.\n",
            "Computing the cosine similarity matrix...\n",
            "Done computing similarity matrix.\n",
            "Computing the cosine similarity matrix...\n",
            "Done computing similarity matrix.\n",
            "Estimating biases using als...\n",
            "Computing the pearson_baseline similarity matrix...\n",
            "Done computing similarity matrix.\n",
            "Estimating biases using als...\n",
            "Computing the pearson_baseline similarity matrix...\n",
            "Done computing similarity matrix.\n",
            "Estimating biases using als...\n",
            "Computing the pearson_baseline similarity matrix...\n",
            "Done computing similarity matrix.\n",
            "Estimating biases using als...\n",
            "Computing the pearson_baseline similarity matrix...\n",
            "Done computing similarity matrix.\n",
            "Estimating biases using als...\n",
            "Computing the pearson_baseline similarity matrix...\n",
            "Done computing similarity matrix.\n",
            "Estimating biases using als...\n",
            "Computing the pearson_baseline similarity matrix...\n",
            "Done computing similarity matrix.\n",
            "Estimating biases using als...\n",
            "Computing the pearson_baseline similarity matrix...\n",
            "Done computing similarity matrix.\n",
            "Estimating biases using als...\n",
            "Computing the pearson_baseline similarity matrix...\n",
            "Done computing similarity matrix.\n",
            "Computing the cosine similarity matrix...\n",
            "Done computing similarity matrix.\n",
            "Computing the cosine similarity matrix...\n",
            "Done computing similarity matrix.\n",
            "Computing the cosine similarity matrix...\n",
            "Done computing similarity matrix.\n",
            "Computing the cosine similarity matrix...\n",
            "Done computing similarity matrix.\n",
            "Computing the cosine similarity matrix...\n",
            "Done computing similarity matrix.\n",
            "Computing the cosine similarity matrix...\n",
            "Done computing similarity matrix.\n",
            "Computing the cosine similarity matrix...\n",
            "Done computing similarity matrix.\n",
            "Computing the cosine similarity matrix...\n",
            "Done computing similarity matrix.\n"
          ]
        }
      ]
    },
    {
      "cell_type": "code",
      "source": [
        "#최적 RMSE출력\n",
        "print(gs.best_score['rmse'])\n",
        "\n",
        "#최적 RMSE의 parameter 출력\n",
        "print(gs.best_params['rmse'])"
      ],
      "metadata": {
        "colab": {
          "base_uri": "https://localhost:8080/"
        },
        "id": "bq90qXXH6IZt",
        "outputId": "48159149-ffda-4a55-c372-366376f495a7"
      },
      "execution_count": 14,
      "outputs": [
        {
          "output_type": "stream",
          "name": "stdout",
          "text": [
            "0.9258370274634039\n",
            "{'k': 25, 'sim_options': {'name': 'pearson_baseline', 'user_based': False}}\n"
          ]
        }
      ]
    },
    {
      "cell_type": "code",
      "source": [
        "# SVD 다양한 파라미터 비교\n",
        "from surprise import SVD\n",
        "from surprise.model_selection import GridSearchCV\n",
        "\n",
        "\n",
        "param_grid ={\n",
        "    'n_epochs' : [70, 80, 90],\n",
        "    'lr_all' : [0.005, 0.006, 0.007],\n",
        "    'reg_all' : [0.06, 0.07, 0.1]\n",
        "}\n",
        "\n",
        "gs = GridSearchCV(algo_class = SVD,\n",
        "                  param_grid = param_grid,\n",
        "                  measures = ['rmse'],\n",
        "                  cv=4)\n",
        "\n",
        "gs.fit(data)\n",
        "\n",
        "print(gs.best_score['rmse'])\n",
        "\n",
        "print(gs.best_params['rmse'])"
      ],
      "metadata": {
        "id": "Qzfq9v206Yss"
      },
      "execution_count": null,
      "outputs": []
    }
  ]
}